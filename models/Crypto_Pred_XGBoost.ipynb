{
 "cells": [
  {
   "cell_type": "code",
   "execution_count": 50,
   "id": "79105455",
   "metadata": {},
   "outputs": [],
   "source": [
    "import os\n",
    "import pandas as pd\n",
    "from glob import glob\n",
    "import numpy as np\n",
    "\n",
    "from scipy.fft import fft\n",
    "import xgboost as xgb\n",
    "import pandas as pd\n",
    "from sklearn.preprocessing import MinMaxScaler\n",
    "from sklearn.model_selection import train_test_split\n",
    "from sklearn.metrics import mean_squared_error\n",
    "from sklearn.model_selection import RandomizedSearchCV\n",
    "from sklearn.multioutput import MultiOutputRegressor\n",
    "\n",
    "import matplotlib.pyplot as plt\n",
    "\n",
    "## Set random seed\n",
    "seed = 42\n",
    "np.random.seed(seed) "
   ]
  },
  {
   "cell_type": "markdown",
   "id": "ae0b3288",
   "metadata": {},
   "source": [
    "## Load and Processing Data"
   ]
  },
  {
   "cell_type": "code",
   "execution_count": 19,
   "id": "04790efc",
   "metadata": {},
   "outputs": [],
   "source": [
    "## Since data is still processing, will modify the code later\n",
    "file_paths = glob('./XRP_USDT*.csv')\n",
    "N = len(file_paths)\n",
    "train_df = []\n",
    "for path in file_paths[:-1]:\n",
    "    df = pd.read_csv(path)\n",
    "    df = df.drop(df.filter(regex=r'^(a|b).*_count$').columns, axis=1)\n",
    "    train_df.append(df)\n",
    "    \n",
    "train_df = pd.concat(train_df).reset_index(drop=True)\n",
    "test_df = pd.read_csv(file_paths[-1])\n",
    "test_df = test_df.drop(test_df.filter(regex=r'^(a|b).*_count$').columns, axis=1)\n",
    "\n",
    "## Scale the features to the range [0,1]\n",
    "train_scaler = MinMaxScaler()\n",
    "feature_columns = [col for col in train_df.columns if (col != 'a0_px' and col != 'b0_px')]\n",
    "train_df[feature_columns] = train_scaler.fit_transform(train_df[feature_columns])\n",
    "test_df[feature_columns] = train_scaler.transform(test_df[feature_columns])\n",
    "\n",
    "## Scale the labels to the range [0,1]\n",
    "label_scaler = MinMaxScaler()\n",
    "label_columns = ['a0_px', 'b0_px']\n",
    "train_df[label_columns] = label_scaler.fit_transform(train_df[label_columns])\n",
    "test_df[label_columns] = label_scaler.transform(test_df[label_columns])"
   ]
  },
  {
   "cell_type": "code",
   "execution_count": 46,
   "id": "dea9c8ad",
   "metadata": {},
   "outputs": [],
   "source": [
    "def create_inout_sequences(input_data, tw, a0_px_idx=5, b0_px_idx=45):\n",
    "    inout_seq = []\n",
    "    L = len(input_data)\n",
    "    for i in range(L-tw):\n",
    "        # Sequence of data upto (not including) tw\n",
    "        train_seq = input_data[i:i+tw]\n",
    "        # Try to predict tw\n",
    "        train_label = [input_data[i+tw:i+tw+1, a0_px_idx], input_data[i+tw:i+tw+1, b0_px_idx]]\n",
    "        inout_seq.append((train_seq, train_label))\n",
    "    return inout_seq\n",
    "\n",
    "# Define sequence length\n",
    "# The number of previous time steps to consider for predicting the next time step\n",
    "seq_length = 20\n",
    "train_sequences = create_inout_sequences(train_df.values, seq_length)\n",
    "train_sequence_features = np.array([s[0] for s in train_sequences])\n",
    "train_sequence_labels = np.array([s[1] for s in train_sequences]).squeeze(-1)\n",
    "# train_sequence_features = torch.FloatTensor([s[0] for s in train_sequences])\n",
    "# train_sequence_labels = torch.FloatTensor([s[1] for s in train_sequences])\n",
    "\n",
    "test_sequences = create_inout_sequences(test_df.values, seq_length)\n",
    "test_sequence_features = np.array([s[0] for s in test_sequences])\n",
    "test_sequence_labels = np.array([s[1] for s in test_sequences]).squeeze(-1)\n",
    "# test_sequence_features = torch.FloatTensor([s[0] for s in train_sequences])\n",
    "# test_sequence_labels = torch.FloatTensor([s[1] for s in train_sequences])\n",
    "\n"
   ]
  },
  {
   "cell_type": "markdown",
   "id": "cc2f8255",
   "metadata": {},
   "source": [
    "## Feature Engineering\n",
    "Since we are implementing a baseline with classical machine-learning models, i.e. XGBoost, those models are dealing with static features not temporal ones. We need to do the feature enginnering:\n",
    "1. Calculathe mean/std of each feature within a time-window\n",
    "2. Apply fourier transform to capture the periodic information of each feature"
   ]
  },
  {
   "cell_type": "code",
   "execution_count": 47,
   "id": "1124f4b4",
   "metadata": {},
   "outputs": [],
   "source": [
    "def time_series_feature_engineering(sequence_features, window_size=10, fourier_cutoff=5):\n",
    "    n, t, h = sequence_features.shape\n",
    "\n",
    "    processed_features = []\n",
    "    for i in range(n):\n",
    "        features = sequence_features[i]  # Shape: (t, h)\n",
    "\n",
    "        ## Process the features by calculate mean/std within a time-window\n",
    "        df_features = pd.DataFrame(features)\n",
    "        rolled_features = []\n",
    "        for start in range(0, t, window_size):  # Increment by window size for each step\n",
    "            end = start + window_size\n",
    "            window_data = df_features.iloc[start:end]\n",
    "\n",
    "            ## Calculate the mean and std for the current window\n",
    "            mean_vals = window_data.mean().values\n",
    "            std_vals = window_data.std().fillna(0).values  # Handle NaN for short windows\n",
    "\n",
    "            ## Append flattened results for each window\n",
    "            rolled_features.extend(mean_vals)\n",
    "            rolled_features.extend(std_vals)\n",
    "\n",
    "        ## Apply a Fourier transform to process the data in order to capture along-term periodic pattern\n",
    "        fourier_features = np.abs(fft(features, axis=0))[:fourier_cutoff]\n",
    "\n",
    "        ## Combined the above features\n",
    "        combined_features = np.concatenate([rolled_features, fourier_features.flatten()])\n",
    "        processed_features.append(combined_features)\n",
    "\n",
    "    processed_features = np.array(processed_features)\n",
    "    return processed_features\n",
    "\n",
    "train_sequence_features = time_series_feature_engineering(train_sequence_features)\n",
    "\n",
    "test_sequence_features = time_series_feature_engineering(test_sequence_features)\n"
   ]
  },
  {
   "cell_type": "markdown",
   "id": "a58a508c",
   "metadata": {},
   "source": [
    "## Fit the Model - XGBoost\n",
    "Here we would like to build two models for ask/bid separately."
   ]
  },
  {
   "cell_type": "code",
   "execution_count": 72,
   "id": "d6811593",
   "metadata": {},
   "outputs": [],
   "source": [
    "## Grid search to find the optimal parameters\n",
    "param_grid = {\n",
    "    'estimator__n_estimators': [100, 200, 300],\n",
    "    'estimator__learning_rate': [0.01, 0.04, 0.006],\n",
    "    'estimator__max_depth': [3, 5, 7],\n",
    "    'estimator__subsample': [0.6, 0.8],\n",
    "    'estimator__colsample_bytree': [0.8, 1.0]\n",
    "}\n",
    "\n",
    "xgb_model = xgb.XGBRegressor(objective='reg:squarederror', random_state=42)\n",
    "multi_output_model = MultiOutputRegressor(xgb_model)\n",
    "\n",
    "random_search = RandomizedSearchCV(\n",
    "    estimator=multi_output_model,\n",
    "    param_distributions=param_grid,\n",
    "    n_iter=20,  # Number of parameter settings sampled\n",
    "    scoring='neg_mean_squared_error',\n",
    "    cv=3,\n",
    "    verbose=1,\n",
    "    random_state=42,\n",
    "    n_jobs=-1\n",
    ")\n",
    "\n",
    "random_search.fit(train_sequence_features, train_sequence_labels)\n",
    "\n",
    "## Use the optimal params to predict on test data\n",
    "best_model = random_search.best_estimator_\n",
    "test_predictions = best_model.predict(test_sequence_features)\n",
    "\n",
    "test_predictions = label_scaler.inverse_transform(test_predictions)"
   ]
  },
  {
   "cell_type": "code",
   "execution_count": 73,
   "id": "2214a2f5",
   "metadata": {},
   "outputs": [
    {
     "data": {
      "image/png": "[encoded data removed]",
      "text/plain": [
       "<Figure size 720x360 with 1 Axes>"
      ]
     },
     "metadata": {
      "needs_background": "light"
     },
     "output_type": "display_data"
    }
   ],
   "source": [
    "actual_prices = label_scaler.inverse_transform(test_df[label_columns].values)\n",
    "\n",
    "test_predictions_aligned = actual_prices.copy()\n",
    "test_predictions_aligned[20:, :] = test_predictions\n",
    "\n",
    "plt.figure(figsize=(10, 5))\n",
    "plt.plot(actual_prices[:,0], label='Actual Ask Prices')\n",
    "plt.plot(test_predictions_aligned[:,0], label='Predicted Ask Prices')\n",
    "plt.legend()\n",
    "plt.show()"
   ]
  }
 ],
 "metadata": {
  "kernelspec": {
   "display_name": "kejie",
   "language": "python",
   "name": "kejie"
  },
  "language_info": {
   "codemirror_mode": {
    "name": "ipython",
    "version": 3
   },
   "file_extension": ".py",
   "mimetype": "text/x-python",
   "name": "python",
   "nbconvert_exporter": "python",
   "pygments_lexer": "ipython3",
   "version": "3.8.11"
  }
 },
 "nbformat": 4,
 "nbformat_minor": 5
}
