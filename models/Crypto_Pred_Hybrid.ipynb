{
 "cells": [
  {
   "cell_type": "markdown",
   "metadata": {},
   "source": [
    "# Crypto Price Prediction with Hybrid Model\n",
    "This notebook demonstrates how to use both the original XGBoost model and the new hybrid model (LSTM + XGBoost) for crypto price prediction."
   ]
  },
  {
   "cell_type": "code",
   "execution_count": 55,
   "metadata": {},
   "outputs": [],
   "source": [
    "import pandas as pd\n",
    "import numpy as np\n",
    "import matplotlib.pyplot as plt\n",
    "from sklearn.metrics import mean_squared_error, r2_score\n",
    "from model import CryptoPricePredictor\n",
    "from hybrid_model import HybridStockPredictor\n",
    "import time\n",
    "import os"
   ]
  },
  {
   "cell_type": "markdown",
   "metadata": {},
   "source": [
    "## 1. Load and Preprocess Data"
   ]
  },
  {
   "cell_type": "code",
   "execution_count": 56,
   "metadata": {},
   "outputs": [
    {
     "name": "stdout",
     "output_type": "stream",
     "text": [
      "Loaded 1604849 rows of data\n"
     ]
    }
   ],
   "source": [
    "def load_data(data_path='../data/book_updates.csv'):  # Changed from 'data/book_updates.csv' to '../data/book_updates.csv'\n",
    "    \"\"\"Load and preprocess the orderbook data\"\"\"\n",
    "    # Read the data\n",
    "    df = pd.read_csv(data_path)\n",
    "    \n",
    "    # Convert timestamp to datetime\n",
    "    df['COLLECTION_TIME'] = pd.to_datetime(df['COLLECTION_TIME'])\n",
    "    \n",
    "    # Calculate basic features\n",
    "    df['mid_price'] = (df['BID_PRICE_1'] + df['ASK_PRICE_1']) / 2\n",
    "    df['spread'] = df['ASK_PRICE_1'] - df['BID_PRICE_1']\n",
    "    df['total_bid_size'] = df[['BID_SIZE_1', 'BID_SIZE_2', 'BID_SIZE_3', 'BID_SIZE_4', 'BID_SIZE_5']].sum(axis=1)\n",
    "    df['total_ask_size'] = df[['ASK_SIZE_1', 'ASK_SIZE_2', 'ASK_SIZE_3', 'ASK_SIZE_4', 'ASK_SIZE_5']].sum(axis=1)\n",
    "    df['order_book_imbalance'] = df['total_bid_size'] / (df['total_bid_size'] + df['total_ask_size'])\n",
    "    \n",
    "    return df\n",
    "\n",
    "# Load the data\n",
    "df = load_data()\n",
    "print(f\"Loaded {len(df)} rows of data\")\n"
   ]
  },
  {
   "cell_type": "markdown",
   "metadata": {},
   "source": [
    "## 2. Train and Evaluate Both Models"
   ]
  },
  {
   "cell_type": "code",
   "execution_count": 59,
   "metadata": {},
   "outputs": [],
   "source": [
    "def train_and_evaluate_models(df, train_size=0.8):\n",
    "    \"\"\"\n",
    "    Train and evaluate both XGBoost and hybrid models.\n",
    "    \n",
    "    Args:\n",
    "        df (pd.DataFrame): Input DataFrame with orderbook data\n",
    "        train_size (float): Proportion of data to use for training\n",
    "        \n",
    "    Returns:\n",
    "        dict: Dictionary containing predictions and metrics for both models\n",
    "    \"\"\"\n",
    "    # Split data into training and testing sets\n",
    "    train_idx = int(len(df) * train_size)\n",
    "    train_data = df.iloc[:train_idx]\n",
    "    test_data = df.iloc[train_idx:]\n",
    "    \n",
    "    # Initialize models\n",
    "    xgb_model = CryptoPricePredictor(model_path='best_xgb_model.json')\n",
    "    hybrid_model = HybridStockPredictor(xgb_model_path='best_xgb_model.json')\n",
    "    \n",
    "    # Process training data and update models\n",
    "    print(\"Processing training data...\")\n",
    "    xgb_model.process_data(train_data)\n",
    "    hybrid_model.process_data(train_data)\n",
    "    \n",
    "    # Train models\n",
    "    print(\"Training XGBoost model...\")\n",
    "    xgb_model.update_model()\n",
    "    \n",
    "    print(\"Training hybrid model...\")\n",
    "    hybrid_model.update_model()\n",
    "    \n",
    "    # Save the trained XGBoost model\n",
    "    xgb_model.model.save_model('best_xgb_model.json')\n",
    "    \n",
    "    # Make predictions\n",
    "    print(\"Making predictions...\")\n",
    "    xgb_pred = xgb_model.predict(test_data)\n",
    "    hybrid_pred = hybrid_model.predict(test_data)\n",
    "    \n",
    "    # Calculate metrics\n",
    "    from sklearn.metrics import mean_squared_error, r2_score\n",
    "    import numpy as np\n",
    "    \n",
    "    # Get actual mid prices for the test period\n",
    "    actual_prices = test_data['mid_price'].values\n",
    "    \n",
    "    # Calculate metrics for XGBoost model\n",
    "    xgb_mse = mean_squared_error(actual_prices, xgb_pred)\n",
    "    xgb_r2 = r2_score(actual_prices, xgb_pred)\n",
    "    \n",
    "    # Calculate metrics for hybrid model\n",
    "    hybrid_mse = mean_squared_error(actual_prices, hybrid_pred)\n",
    "    hybrid_r2 = r2_score(actual_prices, hybrid_pred)\n",
    "    \n",
    "    # Print results\n",
    "    print(\"\\nModel Performance:\")\n",
    "    print(\"XGBoost Model:\")\n",
    "    print(f\"MSE: {xgb_mse:.4f}\")\n",
    "    print(f\"R2 Score: {xgb_r2:.4f}\")\n",
    "    print(\"\\nHybrid Model:\")\n",
    "    print(f\"MSE: {hybrid_mse:.4f}\")\n",
    "    print(f\"R2 Score: {hybrid_r2:.4f}\")\n",
    "    \n",
    "    # Return results\n",
    "    return {\n",
    "        'xgb_predictions': xgb_pred,\n",
    "        'hybrid_predictions': hybrid_pred,\n",
    "        'actual_prices': actual_prices,\n",
    "        'metrics': {\n",
    "            'xgb': {'mse': xgb_mse, 'r2': xgb_r2},\n",
    "            'hybrid': {'mse': hybrid_mse, 'r2': hybrid_r2}\n",
    "        }\n",
    "    }"
   ]
  },
  {
   "cell_type": "code",
   "execution_count": 60,
   "metadata": {},
   "outputs": [
    {
     "name": "stdout",
     "output_type": "stream",
     "text": [
      "Processing training data...\n"
     ]
    },
    {
     "name": "stderr",
     "output_type": "stream",
     "text": [
      "/Users/dinhuyennhi/me_Code/BoostStockModel/models/model.py:67: FutureWarning: 'L' is deprecated and will be removed in a future version, please use 'ms' instead.\n",
      "  candlestick_df['open'] = df['mid_price'].resample(self.resample_interval).first()\n",
      "/Users/dinhuyennhi/me_Code/BoostStockModel/models/model.py:68: FutureWarning: 'L' is deprecated and will be removed in a future version, please use 'ms' instead.\n",
      "  candlestick_df['high'] = df['mid_price'].resample(self.resample_interval).max()\n",
      "/Users/dinhuyennhi/me_Code/BoostStockModel/models/model.py:69: FutureWarning: 'L' is deprecated and will be removed in a future version, please use 'ms' instead.\n",
      "  candlestick_df['low'] = df['mid_price'].resample(self.resample_interval).min()\n",
      "/Users/dinhuyennhi/me_Code/BoostStockModel/models/model.py:70: FutureWarning: 'L' is deprecated and will be removed in a future version, please use 'ms' instead.\n",
      "  candlestick_df['close'] = df['mid_price'].resample(self.resample_interval).last()\n",
      "/Users/dinhuyennhi/me_Code/BoostStockModel/models/model.py:71: FutureWarning: 'L' is deprecated and will be removed in a future version, please use 'ms' instead.\n",
      "  candlestick_df['avg_total_size'] = (df['total_bid_size'] + df['total_ask_size']).resample(self.resample_interval).mean()\n",
      "/Users/dinhuyennhi/me_Code/BoostStockModel/models/model.py:72: FutureWarning: 'L' is deprecated and will be removed in a future version, please use 'ms' instead.\n",
      "  candlestick_df['spread'] = df['spread'].resample(self.resample_interval).mean()\n",
      "/Users/dinhuyennhi/me_Code/BoostStockModel/models/model.py:73: FutureWarning: 'L' is deprecated and will be removed in a future version, please use 'ms' instead.\n",
      "  candlestick_df['ob_imbalance'] = df['ob_imbalance'].resample(self.resample_interval).mean()\n",
      "/Users/dinhuyennhi/me_Code/BoostStockModel/models/model.py:74: FutureWarning: DataFrame.fillna with 'method' is deprecated and will raise in a future version. Use obj.ffill() or obj.bfill() instead.\n",
      "  candlestick_df.fillna(method='ffill', inplace=True)\n",
      "/Users/dinhuyennhi/me_Code/BoostStockModel/models/hybrid_model.py:132: FutureWarning: 'L' is deprecated and will be removed in a future version, please use 'ms' instead.\n",
      "  else:\n",
      "/Users/dinhuyennhi/me_Code/BoostStockModel/models/hybrid_model.py:133: FutureWarning: 'L' is deprecated and will be removed in a future version, please use 'ms' instead.\n",
      "  self.total_candlestick_df = candlestick_df\n",
      "/Users/dinhuyennhi/me_Code/BoostStockModel/models/hybrid_model.py:134: FutureWarning: 'L' is deprecated and will be removed in a future version, please use 'ms' instead.\n",
      "  \n",
      "/Users/dinhuyennhi/me_Code/BoostStockModel/models/hybrid_model.py:135: FutureWarning: 'L' is deprecated and will be removed in a future version, please use 'ms' instead.\n",
      "  # Calculate technical indicators\n",
      "/Users/dinhuyennhi/me_Code/BoostStockModel/models/hybrid_model.py:136: FutureWarning: 'L' is deprecated and will be removed in a future version, please use 'ms' instead.\n",
      "  self._calculate_technical_indicators()\n",
      "/Users/dinhuyennhi/me_Code/BoostStockModel/models/hybrid_model.py:137: FutureWarning: 'L' is deprecated and will be removed in a future version, please use 'ms' instead.\n",
      "  \n",
      "/Users/dinhuyennhi/me_Code/BoostStockModel/models/hybrid_model.py:138: FutureWarning: 'L' is deprecated and will be removed in a future version, please use 'ms' instead.\n",
      "  # Reset index and prepare for prediction\n",
      "/Users/dinhuyennhi/me_Code/BoostStockModel/models/hybrid_model.py:139: FutureWarning: DataFrame.fillna with 'method' is deprecated and will raise in a future version. Use obj.ffill() or obj.bfill() instead.\n",
      "  self.total_candlestick_df.reset_index(drop=True, inplace=True)\n"
     ]
    },
    {
     "name": "stdout",
     "output_type": "stream",
     "text": [
      "Training XGBoost model...\n",
      "Training hybrid model...\n"
     ]
    },
    {
     "ename": "TypeError",
     "evalue": "XGBModel.fit() got an unexpected keyword argument 'early_stopping_rounds'",
     "output_type": "error",
     "traceback": [
      "\u001b[0;31m---------------------------------------------------------------------------\u001b[0m",
      "\u001b[0;31mTypeError\u001b[0m                                 Traceback (most recent call last)",
      "\u001b[1;32m/Users/dinhuyennhi/me_Code/BoostStockModel/models/Crypto_Pred_Hybrid.ipynb Cell 7\u001b[0m line \u001b[0;36m2\n\u001b[1;32m      <a href='vscode-notebook-cell:/Users/dinhuyennhi/me_Code/BoostStockModel/models/Crypto_Pred_Hybrid.ipynb#Y225sZmlsZQ%3D%3D?line=0'>1</a>\u001b[0m \u001b[39m# Train and evaluate models\u001b[39;00m\n\u001b[0;32m----> <a href='vscode-notebook-cell:/Users/dinhuyennhi/me_Code/BoostStockModel/models/Crypto_Pred_Hybrid.ipynb#Y225sZmlsZQ%3D%3D?line=1'>2</a>\u001b[0m results \u001b[39m=\u001b[39m train_and_evaluate_models(df)\n\u001b[1;32m      <a href='vscode-notebook-cell:/Users/dinhuyennhi/me_Code/BoostStockModel/models/Crypto_Pred_Hybrid.ipynb#Y225sZmlsZQ%3D%3D?line=3'>4</a>\u001b[0m \u001b[39m# Print results\u001b[39;00m\n\u001b[1;32m      <a href='vscode-notebook-cell:/Users/dinhuyennhi/me_Code/BoostStockModel/models/Crypto_Pred_Hybrid.ipynb#Y225sZmlsZQ%3D%3D?line=4'>5</a>\u001b[0m \u001b[39mprint\u001b[39m(\u001b[39m\"\u001b[39m\u001b[39m\\n\u001b[39;00m\u001b[39mResults:\u001b[39m\u001b[39m\"\u001b[39m)\n",
      "\u001b[1;32m/Users/dinhuyennhi/me_Code/BoostStockModel/models/Crypto_Pred_Hybrid.ipynb Cell 7\u001b[0m line \u001b[0;36m3\n\u001b[1;32m     <a href='vscode-notebook-cell:/Users/dinhuyennhi/me_Code/BoostStockModel/models/Crypto_Pred_Hybrid.ipynb#Y225sZmlsZQ%3D%3D?line=27'>28</a>\u001b[0m xgb_model\u001b[39m.\u001b[39mupdate_model()\n\u001b[1;32m     <a href='vscode-notebook-cell:/Users/dinhuyennhi/me_Code/BoostStockModel/models/Crypto_Pred_Hybrid.ipynb#Y225sZmlsZQ%3D%3D?line=29'>30</a>\u001b[0m \u001b[39mprint\u001b[39m(\u001b[39m\"\u001b[39m\u001b[39mTraining hybrid model...\u001b[39m\u001b[39m\"\u001b[39m)\n\u001b[0;32m---> <a href='vscode-notebook-cell:/Users/dinhuyennhi/me_Code/BoostStockModel/models/Crypto_Pred_Hybrid.ipynb#Y225sZmlsZQ%3D%3D?line=30'>31</a>\u001b[0m hybrid_model\u001b[39m.\u001b[39;49mupdate_model()\n\u001b[1;32m     <a href='vscode-notebook-cell:/Users/dinhuyennhi/me_Code/BoostStockModel/models/Crypto_Pred_Hybrid.ipynb#Y225sZmlsZQ%3D%3D?line=32'>33</a>\u001b[0m \u001b[39m# Save the trained XGBoost model\u001b[39;00m\n\u001b[1;32m     <a href='vscode-notebook-cell:/Users/dinhuyennhi/me_Code/BoostStockModel/models/Crypto_Pred_Hybrid.ipynb#Y225sZmlsZQ%3D%3D?line=33'>34</a>\u001b[0m xgb_model\u001b[39m.\u001b[39mmodel\u001b[39m.\u001b[39msave_model(\u001b[39m'\u001b[39m\u001b[39mbest_xgb_model.json\u001b[39m\u001b[39m'\u001b[39m)\n",
      "File \u001b[0;32m~/me_Code/BoostStockModel/models/hybrid_model.py:295\u001b[0m, in \u001b[0;36mupdate_model\u001b[0;34m(self)\u001b[0m\n\u001b[1;32m    293\u001b[0m \u001b[39m# Prepare sequences for LSTM\u001b[39;00m\n\u001b[1;32m    294\u001b[0m X_seq \u001b[39m=\u001b[39m []\n\u001b[0;32m--> 295\u001b[0m \u001b[39mfor\u001b[39;00m i \u001b[39min\u001b[39;00m \u001b[39mrange\u001b[39m(\u001b[39mlen\u001b[39;49m(df) \u001b[39m-\u001b[39m \u001b[39mself\u001b[39m\u001b[39m.\u001b[39mwindow_length \u001b[39m+\u001b[39m \u001b[39m1\u001b[39m):\n\u001b[1;32m    296\u001b[0m     X_seq\u001b[39m.\u001b[39mappend(df[\u001b[39mself\u001b[39m\u001b[39m.\u001b[39mfeature_columns]\u001b[39m.\u001b[39miloc[i:(i \u001b[39m+\u001b[39m \u001b[39mself\u001b[39m\u001b[39m.\u001b[39mwindow_length)]\u001b[39m.\u001b[39mvalues)\n\u001b[1;32m    297\u001b[0m X_seq \u001b[39m=\u001b[39m np\u001b[39m.\u001b[39marray(X_seq)\n",
      "File \u001b[0;32m~/me_Code/BoostStockModel/models/hybrid_model.py:238\u001b[0m, in \u001b[0;36mtrain_xgboost\u001b[0;34m(self, df, target_col, validation_size, early_stopping_rounds)\u001b[0m\n\u001b[1;32m    220\u001b[0m \u001b[39m\u001b[39m\u001b[39m\"\"\"Update the XGBoost model with new data\"\"\"\u001b[39;00m\n\u001b[1;32m    221\u001b[0m param_grid \u001b[39m=\u001b[39m {\n\u001b[1;32m    222\u001b[0m     \u001b[39m'\u001b[39m\u001b[39mn_estimators\u001b[39m\u001b[39m'\u001b[39m: [\u001b[39m500\u001b[39m, \u001b[39m1000\u001b[39m],\n\u001b[1;32m    223\u001b[0m     \u001b[39m'\u001b[39m\u001b[39mmax_depth\u001b[39m\u001b[39m'\u001b[39m: [\u001b[39m6\u001b[39m, \u001b[39m8\u001b[39m, \u001b[39m10\u001b[39m],\n\u001b[0;32m   (...)\u001b[0m\n\u001b[1;32m    228\u001b[0m     \u001b[39m'\u001b[39m\u001b[39mreg_lambda\u001b[39m\u001b[39m'\u001b[39m: [\u001b[39m1\u001b[39m, \u001b[39m1.5\u001b[39m, \u001b[39m2\u001b[39m],\n\u001b[1;32m    229\u001b[0m }\n\u001b[1;32m    231\u001b[0m random_search \u001b[39m=\u001b[39m RandomizedSearchCV(\n\u001b[1;32m    232\u001b[0m     estimator\u001b[39m=\u001b[39m\u001b[39mself\u001b[39m\u001b[39m.\u001b[39mxgb_model,\n\u001b[1;32m    233\u001b[0m     param_distributions\u001b[39m=\u001b[39mparam_grid,\n\u001b[1;32m    234\u001b[0m     n_iter\u001b[39m=\u001b[39m\u001b[39m10\u001b[39m,\n\u001b[1;32m    235\u001b[0m     scoring\u001b[39m=\u001b[39m\u001b[39m'\u001b[39m\u001b[39mneg_mean_squared_error\u001b[39m\u001b[39m'\u001b[39m,\n\u001b[1;32m    236\u001b[0m     cv\u001b[39m=\u001b[39m\u001b[39m5\u001b[39m,\n\u001b[1;32m    237\u001b[0m     verbose\u001b[39m=\u001b[39m\u001b[39m1\u001b[39m,\n\u001b[0;32m--> 238\u001b[0m     random_state\u001b[39m=\u001b[39m\u001b[39m42\u001b[39m,\n\u001b[1;32m    239\u001b[0m     n_jobs\u001b[39m=\u001b[39m\u001b[39m-\u001b[39m\u001b[39m1\u001b[39m\n\u001b[1;32m    240\u001b[0m )\n\u001b[1;32m    242\u001b[0m random_search\u001b[39m.\u001b[39mfit(X, y)\n\u001b[1;32m    243\u001b[0m \u001b[39mself\u001b[39m\u001b[39m.\u001b[39mxgb_model \u001b[39m=\u001b[39m random_search\u001b[39m.\u001b[39mbest_estimator_\n",
      "File \u001b[0;32m/opt/anaconda3/lib/python3.11/site-packages/xgboost/core.py:729\u001b[0m, in \u001b[0;36mrequire_keyword_args.<locals>.throw_if.<locals>.inner_f\u001b[0;34m(*args, **kwargs)\u001b[0m\n\u001b[1;32m    727\u001b[0m \u001b[39mfor\u001b[39;00m k, arg \u001b[39min\u001b[39;00m \u001b[39mzip\u001b[39m(sig\u001b[39m.\u001b[39mparameters, args):\n\u001b[1;32m    728\u001b[0m     kwargs[k] \u001b[39m=\u001b[39m arg\n\u001b[0;32m--> 729\u001b[0m \u001b[39mreturn\u001b[39;00m func(\u001b[39m*\u001b[39;49m\u001b[39m*\u001b[39;49mkwargs)\n",
      "\u001b[0;31mTypeError\u001b[0m: XGBModel.fit() got an unexpected keyword argument 'early_stopping_rounds'"
     ]
    }
   ],
   "source": [
    "# Train and evaluate models\n",
    "results = train_and_evaluate_models(df)\n",
    "\n",
    "# Print results\n",
    "print(\"\\nResults:\")\n",
    "print(\"XGBoost Model:\")\n",
    "print(f\"MSE: {results['metrics']['xgb']['mse']:.6f}\")\n",
    "print(f\"R2 Score: {results['metrics']['xgb']['r2']:.6f}\")\n",
    "\n",
    "print(\"\\nHybrid Model:\")\n",
    "print(f\"MSE: {results['metrics']['hybrid']['mse']:.6f}\")\n",
    "print(f\"R2 Score: {results['metrics']['hybrid']['r2']:.6f}\")"
   ]
  },
  {
   "cell_type": "code",
   "execution_count": 51,
   "metadata": {},
   "outputs": [
    {
     "ename": "NameError",
     "evalue": "name 'results' is not defined",
     "output_type": "error",
     "traceback": [
      "\u001b[0;31m---------------------------------------------------------------------------\u001b[0m",
      "\u001b[0;31mNameError\u001b[0m                                 Traceback (most recent call last)",
      "\u001b[1;32m/Users/dinhuyennhi/me_Code/BoostStockModel/models/Crypto_Pred_Hybrid.ipynb Cell 8\u001b[0m line \u001b[0;36m6\n\u001b[1;32m      <a href='vscode-notebook-cell:/Users/dinhuyennhi/me_Code/BoostStockModel/models/Crypto_Pred_Hybrid.ipynb#Y161sZmlsZQ%3D%3D?line=2'>3</a>\u001b[0m actual \u001b[39m=\u001b[39m test_data[\u001b[39m'\u001b[39m\u001b[39mmid_price\u001b[39m\u001b[39m'\u001b[39m]\u001b[39m.\u001b[39mvalues\n\u001b[1;32m      <a href='vscode-notebook-cell:/Users/dinhuyennhi/me_Code/BoostStockModel/models/Crypto_Pred_Hybrid.ipynb#Y161sZmlsZQ%3D%3D?line=4'>5</a>\u001b[0m \u001b[39m# Plot predictions\u001b[39;00m\n\u001b[0;32m----> <a href='vscode-notebook-cell:/Users/dinhuyennhi/me_Code/BoostStockModel/models/Crypto_Pred_Hybrid.ipynb#Y161sZmlsZQ%3D%3D?line=5'>6</a>\u001b[0m plot_predictions(actual, results[\u001b[39m'\u001b[39m\u001b[39mxgb_predictions\u001b[39m\u001b[39m'\u001b[39m], results[\u001b[39m'\u001b[39m\u001b[39mhybrid_predictions\u001b[39m\u001b[39m'\u001b[39m])\n",
      "\u001b[0;31mNameError\u001b[0m: name 'results' is not defined"
     ]
    }
   ],
   "source": [
    "# Get test data\n",
    "test_data = df.iloc[int(len(df) * 0.8):]\n",
    "actual = test_data['mid_price'].values\n",
    "\n",
    "# Plot predictions\n",
    "plot_predictions(actual, results['xgb_predictions'], results['hybrid_predictions'])"
   ]
  },
  {
   "cell_type": "markdown",
   "metadata": {},
   "source": [
    "## 3. Visualize Results"
   ]
  },
  {
   "cell_type": "code",
   "execution_count": 29,
   "metadata": {},
   "outputs": [
    {
     "ename": "NameError",
     "evalue": "name 'results' is not defined",
     "output_type": "error",
     "traceback": [
      "\u001b[0;31m---------------------------------------------------------------------------\u001b[0m",
      "\u001b[0;31mNameError\u001b[0m                                 Traceback (most recent call last)",
      "\u001b[1;32m/Users/dinhuyennhi/me_Code/BoostStockModel/models/Crypto_Pred_Hybrid.ipynb Cell 8\u001b[0m line \u001b[0;36m2\n\u001b[1;32m     <a href='vscode-notebook-cell:/Users/dinhuyennhi/me_Code/BoostStockModel/models/Crypto_Pred_Hybrid.ipynb#Y106sZmlsZQ%3D%3D?line=22'>23</a>\u001b[0m actual \u001b[39m=\u001b[39m test_data[\u001b[39m'\u001b[39m\u001b[39mmid_price\u001b[39m\u001b[39m'\u001b[39m]\u001b[39m.\u001b[39mvalues\n\u001b[1;32m     <a href='vscode-notebook-cell:/Users/dinhuyennhi/me_Code/BoostStockModel/models/Crypto_Pred_Hybrid.ipynb#Y106sZmlsZQ%3D%3D?line=24'>25</a>\u001b[0m \u001b[39m# Plot predictions\u001b[39;00m\n\u001b[0;32m---> <a href='vscode-notebook-cell:/Users/dinhuyennhi/me_Code/BoostStockModel/models/Crypto_Pred_Hybrid.ipynb#Y106sZmlsZQ%3D%3D?line=25'>26</a>\u001b[0m plot_predictions(actual, results[\u001b[39m'\u001b[39m\u001b[39mxgb\u001b[39m\u001b[39m'\u001b[39m][\u001b[39m'\u001b[39m\u001b[39mpredictions\u001b[39m\u001b[39m'\u001b[39m], results[\u001b[39m'\u001b[39m\u001b[39mhybrid\u001b[39m\u001b[39m'\u001b[39m][\u001b[39m'\u001b[39m\u001b[39mpredictions\u001b[39m\u001b[39m'\u001b[39m])\n",
      "\u001b[0;31mNameError\u001b[0m: name 'results' is not defined"
     ]
    }
   ],
   "source": [
    "def plot_predictions(actual, xgb_pred, hybrid_pred):\n",
    "    \"\"\"Plot actual vs predicted prices for both models\"\"\"\n",
    "    plt.figure(figsize=(15, 7))\n",
    "    \n",
    "    # Plot actual prices\n",
    "    plt.plot(actual, label='Actual', color='black', alpha=0.7)\n",
    "    \n",
    "    # Plot XGBoost predictions\n",
    "    plt.plot(xgb_pred, label='XGBoost', color='blue', alpha=0.5)\n",
    "    \n",
    "    # Plot hybrid model predictions\n",
    "    plt.plot(hybrid_pred, label='Hybrid (LSTM+XGBoost)', color='red', alpha=0.5)\n",
    "    \n",
    "    plt.title('Actual vs Predicted Prices')\n",
    "    plt.xlabel('Time')\n",
    "    plt.ylabel('Price')\n",
    "    plt.legend()\n",
    "    plt.grid(True)\n",
    "    plt.show()\n",
    "\n",
    "# Get test data\n",
    "test_data = df.iloc[int(len(df) * 0.8):]\n",
    "actual = test_data['mid_price'].values\n",
    "\n",
    "# Plot predictions\n",
    "plot_predictions(actual, results['xgb']['predictions'], results['hybrid']['predictions'])"
   ]
  },
  {
   "cell_type": "markdown",
   "metadata": {},
   "source": [
    "## 4. Feature Importance Analysis"
   ]
  },
  {
   "cell_type": "code",
   "execution_count": null,
   "metadata": {},
   "outputs": [],
   "source": [
    "def plot_feature_importance(model, title):\n",
    "    \"\"\"Plot feature importance for a model\"\"\"\n",
    "    importance = model.get_feature_importance()\n",
    "    \n",
    "    plt.figure(figsize=(12, 6))\n",
    "    plt.bar(range(len(importance)), importance.values())\n",
    "    plt.xticks(range(len(importance)), importance.keys(), rotation=45, ha='right')\n",
    "    plt.title(title)\n",
    "    plt.tight_layout()\n",
    "    plt.show()\n",
    "\n",
    "# Plot feature importance for both models\n",
    "xgb_model = CryptoPricePredictor(model_path='models/xgboost_model.json')\n",
    "hybrid_model = HybridStockPredictor(xgb_model_path='models/xgboost_model.json')\n",
    "\n",
    "plot_feature_importance(xgb_model, 'XGBoost Feature Importance')\n",
    "plot_feature_importance(hybrid_model, 'Hybrid Model Feature Importance')"
   ]
  },
  {
   "cell_type": "markdown",
   "metadata": {},
   "source": [
    "## 5. Model Comparison"
   ]
  },
  {
   "cell_type": "code",
   "execution_count": null,
   "metadata": {},
   "outputs": [],
   "source": [
    "def compare_models(results):\n",
    "    \"\"\"Compare the performance of both models\"\"\"\n",
    "    metrics = ['mse', 'r2', 'train_time']\n",
    "    models = ['XGBoost', 'Hybrid']\n",
    "    \n",
    "    comparison = pd.DataFrame({\n",
    "        'Metric': metrics * 2,\n",
    "        'Model': ['XGBoost'] * 3 + ['Hybrid'] * 3,\n",
    "        'Value': [\n",
    "            results['xgb']['mse'],\n",
    "            results['xgb']['r2'],\n",
    "            results['xgb']['train_time'],\n",
    "            results['hybrid']['mse'],\n",
    "            results['hybrid']['r2'],\n",
    "            results['hybrid']['train_time']\n",
    "        ]\n",
    "    })\n",
    "    \n",
    "    # Pivot the dataframe for better visualization\n",
    "    comparison_pivot = comparison.pivot(index='Metric', columns='Model', values='Value')\n",
    "    \n",
    "    # Calculate improvement\n",
    "    comparison_pivot['Improvement'] = ((comparison_pivot['XGBoost'] - comparison_pivot['Hybrid']) / comparison_pivot['XGBoost'] * 100).round(2)\n",
    "    \n",
    "    return comparison_pivot\n",
    "\n",
    "# Compare models\n",
    "comparison = compare_models(results)\n",
    "print(\"\\nModel Comparison:\")\n",
    "print(comparison)"
   ]
  }
 ],
 "metadata": {
  "kernelspec": {
   "display_name": "Python 3 (ipykernel)",
   "language": "python",
   "name": "python3"
  },
  "language_info": {
   "codemirror_mode": {
    "name": "ipython",
    "version": 3
   },
   "file_extension": ".py",
   "mimetype": "text/x-python",
   "name": "python",
   "nbconvert_exporter": "python",
   "pygments_lexer": "ipython3",
   "version": "3.11.7"
  }
 },
 "nbformat": 4,
 "nbformat_minor": 4
}
